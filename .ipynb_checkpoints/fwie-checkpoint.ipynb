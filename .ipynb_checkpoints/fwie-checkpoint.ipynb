{
 "cells": [
  {
   "cell_type": "code",
   "execution_count": null,
   "metadata": {},
   "outputs": [],
   "source": [
    "# default_exp fwie"
   ]
  },
  {
   "cell_type": "markdown",
   "metadata": {},
   "source": [
    "# FWIe\n",
    "> Functions to calculate FWIe from FWI anc CHI"
   ]
  },
  {
   "cell_type": "code",
   "execution_count": null,
   "metadata": {},
   "outputs": [],
   "source": [
    "#hide\n",
    "from nbdev.export import notebook2script\n",
    "from IPython.core.debugger import set_trace"
   ]
  },
  {
   "cell_type": "code",
   "execution_count": null,
   "metadata": {},
   "outputs": [],
   "source": [
    "#export\n",
    "import numpy as np\n",
    "import pandas as pd\n",
    "import matplotlib.pyplot as plt\n",
    "from pathlib import Path\n",
    "import scipy.io as sio\n",
    "from tqdm import tqdm\n",
    "import requests"
   ]
  },
  {
   "cell_type": "code",
   "execution_count": null,
   "metadata": {},
   "outputs": [],
   "source": [
    "#export\n",
    "def load_table(table_path):\n",
    "    path = Path(table_path)\n",
    "    table_file = path/'FWIeCalc_table.mat'\n",
    "    if not table_file.is_file():\n",
    "        print('Downloading FWIe table...')\n",
    "        path.mkdir(exist_ok=True)\n",
    "        url = 'https://github.com/mnpinto/FWIe/raw/master/data/FWIeCalc_table.mat'\n",
    "        file = requests.get(url)\n",
    "        open(str(table_file), 'wb').write(file.content)\n",
    "    return sio.loadmat(str(table_file))\n",
    "\n",
    "def FWIe_calc(FWI:np.ndarray, CHI:np.ndarray, table_path='data'):\n",
    "    table = load_table(table_path)\n",
    "    assert FWI.shape == CHI.shape\n",
    "    rs, cs = FWI.shape\n",
    "    FWIe = np.zeros_like(FWI)*np.nan\n",
    "    for i in tqdm(range(rs)):\n",
    "        for j in range(cs):\n",
    "            fwi_argmin = np.argmin(np.abs(table['FWI'].reshape(-1) - FWI[i,j]))\n",
    "            chi_argmin = np.argmin(np.abs(table['CHI'].reshape(-1) - CHI[i,j]))\n",
    "            FWIe[i,j] = table['FWIe'][fwi_argmin, chi_argmin]\n",
    "    return np.round(FWIe,1)"
   ]
  },
  {
   "cell_type": "code",
   "execution_count": null,
   "metadata": {},
   "outputs": [],
   "source": [
    "from fwie import FWIe_calc\n",
    "FWIe = FWIe_calc(FWI, CHI)"
   ]
  },
  {
   "cell_type": "code",
   "execution_count": null,
   "metadata": {},
   "outputs": [
    {
     "name": "stderr",
     "output_type": "stream",
     "text": [
      "100%|██████████| 1/1 [00:00<00:00, 6345.39it/s]\n",
      "100%|██████████| 35/35 [00:00<00:00, 1447.62it/s]\n"
     ]
    }
   ],
   "source": [
    "#test\n",
    "assert FWIe_calc(np.array([[50]]), np.array([[12]]))[0,0] == 61.7\n",
    "CHI = sio.loadmat('data/CHI_ERA5.mat')['CHI'][240]\n",
    "FWI = sio.loadmat('data/FWI_ERA5.mat')['FWI'][240]\n",
    "FWIe = FWIe_calc(FWI, CHI)"
   ]
  },
  {
   "cell_type": "code",
   "execution_count": null,
   "metadata": {},
   "outputs": [
    {
     "name": "stdout",
     "output_type": "stream",
     "text": [
      "Converted 00_core.ipynb.\n",
      "Converted fwie.ipynb.\n",
      "Converted index.ipynb.\n"
     ]
    }
   ],
   "source": [
    "#hide\n",
    "notebook2script()"
   ]
  }
 ],
 "metadata": {
  "kernelspec": {
   "display_name": "Python (fastai_dev)",
   "language": "python",
   "name": "fastai_dev"
  }
 },
 "nbformat": 4,
 "nbformat_minor": 2
}
